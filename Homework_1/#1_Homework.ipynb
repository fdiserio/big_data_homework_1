{
  "metadata": {
    "kernelspec": {
      "language": "python",
      "display_name": "Python 3",
      "name": "python3"
    },
    "language_info": {
      "name": "python",
      "version": "3.10.13",
      "mimetype": "text/x-python",
      "codemirror_mode": {
        "name": "ipython",
        "version": 3
      },
      "pygments_lexer": "ipython3",
      "nbconvert_exporter": "python",
      "file_extension": ".py"
    },
    "kaggle": {
      "accelerator": "none",
      "dataSources": [
        {
          "sourceId": 6663,
          "sourceType": "datasetVersion",
          "datasetId": 3405
        },
        {
          "sourceId": 6271901,
          "sourceType": "datasetVersion",
          "datasetId": 3605619
        },
        {
          "sourceId": 8027999,
          "sourceType": "datasetVersion",
          "datasetId": 4731506
        }
      ],
      "dockerImageVersionId": 30684,
      "isInternetEnabled": true,
      "language": "python",
      "sourceType": "notebook",
      "isGpuEnabled": false
    },
    "colab": {
      "provenance": [],
      "toc_visible": true
    }
  },
  "nbformat_minor": 0,
  "nbformat": 4,
  "cells": [
    {
      "cell_type": "markdown",
      "source": [
        "# **DATA LOADING**"
      ],
      "metadata": {
        "id": "b9EWgsfgQNAP"
      }
    },
    {
      "cell_type": "code",
      "source": [
        "from google.colab import drive\n",
        "drive.mount('/content/drive')"
      ],
      "metadata": {
        "colab": {
          "base_uri": "https://localhost:8080/"
        },
        "id": "jh7e4psIO6KS",
        "outputId": "d8af270c-25ca-46d0-c00d-0f0bc2be2b63"
      },
      "execution_count": 1,
      "outputs": [
        {
          "output_type": "stream",
          "name": "stdout",
          "text": [
            "Mounted at /content/drive\n"
          ]
        }
      ]
    },
    {
      "cell_type": "code",
      "source": [
        "!mkdir -p /content/dataset\n",
        "!unzip -q /content/drive/MyDrive/Big\\ Data/Spark/dataset.zip -d /content/dataset"
      ],
      "metadata": {
        "id": "meeucU6ZPBDI"
      },
      "execution_count": 2,
      "outputs": []
    },
    {
      "cell_type": "markdown",
      "source": [
        "# **INSTALLAZIONE PY-SPARK**"
      ],
      "metadata": {
        "id": "OnCVGEPrDn8I"
      }
    },
    {
      "cell_type": "code",
      "source": [
        "!pip install pyspark"
      ],
      "metadata": {
        "execution": {
          "iopub.status.busy": "2024-04-30T14:32:44.384165Z",
          "iopub.execute_input": "2024-04-30T14:32:44.384576Z",
          "iopub.status.idle": "2024-04-30T14:33:41.552488Z",
          "shell.execute_reply.started": "2024-04-30T14:32:44.384544Z",
          "shell.execute_reply": "2024-04-30T14:33:41.551164Z"
        },
        "trusted": true,
        "colab": {
          "base_uri": "https://localhost:8080/"
        },
        "id": "qpucMyC8Dn8J",
        "outputId": "384822d0-7ddd-4c76-cd55-05af508f07ee"
      },
      "execution_count": 3,
      "outputs": [
        {
          "output_type": "stream",
          "name": "stdout",
          "text": [
            "Collecting pyspark\n",
            "  Downloading pyspark-3.5.1.tar.gz (317.0 MB)\n",
            "\u001b[2K     \u001b[90m━━━━━━━━━━━━━━━━━━━━━━━━━━━━━━━━━━━━━━━━\u001b[0m \u001b[32m317.0/317.0 MB\u001b[0m \u001b[31m3.0 MB/s\u001b[0m eta \u001b[36m0:00:00\u001b[0m\n",
            "\u001b[?25h  Preparing metadata (setup.py) ... \u001b[?25l\u001b[?25hdone\n",
            "Requirement already satisfied: py4j==0.10.9.7 in /usr/local/lib/python3.10/dist-packages (from pyspark) (0.10.9.7)\n",
            "Building wheels for collected packages: pyspark\n",
            "  Building wheel for pyspark (setup.py) ... \u001b[?25l\u001b[?25hdone\n",
            "  Created wheel for pyspark: filename=pyspark-3.5.1-py2.py3-none-any.whl size=317488491 sha256=fa2bef717a8affb2bb63e7f8e282307abce7c3e60840eef526f6d72cc918b78b\n",
            "  Stored in directory: /root/.cache/pip/wheels/80/1d/60/2c256ed38dddce2fdd93be545214a63e02fbd8d74fb0b7f3a6\n",
            "Successfully built pyspark\n",
            "Installing collected packages: pyspark\n",
            "Successfully installed pyspark-3.5.1\n"
          ]
        }
      ]
    },
    {
      "cell_type": "code",
      "source": [
        "from pyspark.sql import SparkSession\n",
        "from pyspark.context import SparkContext"
      ],
      "metadata": {
        "execution": {
          "iopub.status.busy": "2024-04-30T14:33:41.555092Z",
          "iopub.execute_input": "2024-04-30T14:33:41.555519Z",
          "iopub.status.idle": "2024-04-30T14:33:41.660527Z",
          "shell.execute_reply.started": "2024-04-30T14:33:41.555477Z",
          "shell.execute_reply": "2024-04-30T14:33:41.65922Z"
        },
        "trusted": true,
        "id": "sbXpzWA4Dn8J"
      },
      "execution_count": 4,
      "outputs": []
    },
    {
      "cell_type": "code",
      "source": [
        "# Verify the Spark version running on the virtual cluster\n",
        "sc = SparkContext.getOrCreate()\n",
        "assert  \"3.\" in sc.version, \"Verify that the cluster Spark's version is 3.x\"\n",
        "print(\"Spark version:\", sc.version)"
      ],
      "metadata": {
        "execution": {
          "iopub.status.busy": "2024-04-30T14:33:41.66234Z",
          "iopub.execute_input": "2024-04-30T14:33:41.663075Z",
          "iopub.status.idle": "2024-04-30T14:33:47.719095Z",
          "shell.execute_reply.started": "2024-04-30T14:33:41.663037Z",
          "shell.execute_reply": "2024-04-30T14:33:47.717882Z"
        },
        "trusted": true,
        "colab": {
          "base_uri": "https://localhost:8080/"
        },
        "id": "PhDoTuVbDn8J",
        "outputId": "b8df1e48-7f3b-4126-f872-14e1bd2c945b"
      },
      "execution_count": 5,
      "outputs": [
        {
          "output_type": "stream",
          "name": "stdout",
          "text": [
            "Spark version: 3.5.1\n"
          ]
        }
      ]
    },
    {
      "cell_type": "code",
      "source": [
        "# Creiamo sessione Spark\n",
        "spark = SparkSession(sc)\n",
        "print(spark)"
      ],
      "metadata": {
        "execution": {
          "iopub.status.busy": "2024-04-30T14:33:47.722507Z",
          "iopub.execute_input": "2024-04-30T14:33:47.723373Z",
          "iopub.status.idle": "2024-04-30T14:33:47.902061Z",
          "shell.execute_reply.started": "2024-04-30T14:33:47.723329Z",
          "shell.execute_reply": "2024-04-30T14:33:47.901054Z"
        },
        "trusted": true,
        "colab": {
          "base_uri": "https://localhost:8080/"
        },
        "id": "uPIcxkU_Dn8J",
        "outputId": "5802507e-3b13-49b4-ebae-1e2d3c32f223"
      },
      "execution_count": 6,
      "outputs": [
        {
          "output_type": "stream",
          "name": "stdout",
          "text": [
            "<pyspark.sql.session.SparkSession object at 0x79ab60633340>\n"
          ]
        }
      ]
    },
    {
      "cell_type": "markdown",
      "source": [
        "# Dataset"
      ],
      "metadata": {
        "id": "SJzWnViDDn8K"
      }
    },
    {
      "cell_type": "code",
      "source": [
        "import os\n",
        "\n",
        "from pyspark.sql.functions import *\n",
        "from pyspark.sql.window import Window\n",
        "from pyspark.sql.types import *\n",
        "\n",
        "import requests\n",
        "from bs4 import BeautifulSoup"
      ],
      "metadata": {
        "execution": {
          "iopub.status.busy": "2024-04-30T14:33:47.903167Z",
          "iopub.execute_input": "2024-04-30T14:33:47.903504Z",
          "iopub.status.idle": "2024-04-30T14:33:48.236164Z",
          "shell.execute_reply.started": "2024-04-30T14:33:47.903475Z",
          "shell.execute_reply": "2024-04-30T14:33:48.234532Z"
        },
        "trusted": true,
        "id": "it8gAnf2Dn8K"
      },
      "execution_count": 7,
      "outputs": []
    },
    {
      "cell_type": "code",
      "source": [
        "# PATH\n",
        "genres_path = '/content/dataset/genres'\n",
        "imdb_path = '/content/dataset/imdb/movies.csv'\n",
        "imdb_path_output = '/content/dataset/output/movies.csv'\n",
        "\n",
        "action_path = genres_path + \"/Action.csv\"\n",
        "adventure_path = genres_path + \"/Adventure.csv\"\n",
        "animation_path = genres_path + \"/Animation.csv\"\n",
        "biography_path = genres_path + \"/Biography.csv\"\n",
        "comedy_path = genres_path + \"/Comedy.csv\"\n",
        "drama_path = genres_path + \"/Drama.csv\"\n",
        "fantasy_path = genres_path + \"/Fantasy.csv\"\n",
        "history_path = genres_path + \"/History.csv\"\n",
        "horror_path = genres_path + \"/Horror.csv\"\n",
        "music_path = genres_path + \"/Music.csv\"\n",
        "mystery_path = genres_path + \"/Mystery.csv\"\n",
        "romance_path = genres_path + \"/Romance.csv\"\n",
        "sci_fi_path = genres_path + \"/Sci-Fi.csv\"\n",
        "sport_path = genres_path + \"/Sport.csv\"\n",
        "thriller_path = genres_path + \"/Thriller.csv\"\n",
        "war_path = genres_path + \"/War.csv\""
      ],
      "metadata": {
        "execution": {
          "iopub.status.busy": "2024-04-30T14:33:48.237601Z",
          "iopub.execute_input": "2024-04-30T14:33:48.238106Z",
          "iopub.status.idle": "2024-04-30T14:33:48.256436Z",
          "shell.execute_reply.started": "2024-04-30T14:33:48.238076Z",
          "shell.execute_reply": "2024-04-30T14:33:48.255007Z"
        },
        "trusted": true,
        "id": "ZVNbqsAYDn8K"
      },
      "execution_count": 8,
      "outputs": []
    },
    {
      "cell_type": "markdown",
      "source": [
        "## IMDB DATASET"
      ],
      "metadata": {
        "id": "nFa2egETDn8K"
      }
    },
    {
      "cell_type": "code",
      "source": [
        "!mkdir -p /content/dataset/output"
      ],
      "metadata": {
        "id": "7rcx6Twym8H2"
      },
      "execution_count": 9,
      "outputs": []
    },
    {
      "cell_type": "code",
      "source": [
        "# Apri il file CSV in modalità lettura\n",
        "with open(imdb_path, 'r') as file:\n",
        "    # Leggi tutte le righe del file\n",
        "    lines = file.readlines()\n",
        "\n",
        "# Uniformiamo la formattazione delle tabelle\n",
        "lines = [line.replace('\"\"', \"'\") for line in lines]\n",
        "lines = [line.replace(\"['\", \"\") for line in lines]\n",
        "lines = [line.replace(\"']\", \"\") for line in lines]\n",
        "lines = [line.replace(\"',\", \",\") for line in lines]\n",
        "lines = [line.replace(\", \", \",\") for line in lines]\n",
        "lines = [line.replace(\",'\", \",\") for line in lines]\n",
        "\n",
        "# Apri il file CSV in modalità scrittura e scrivi le righe modificate\n",
        "with open(imdb_path_output, 'w') as file:\n",
        "    file.writelines(lines)"
      ],
      "metadata": {
        "execution": {
          "iopub.status.busy": "2024-04-30T14:33:48.306296Z",
          "iopub.execute_input": "2024-04-30T14:33:48.306739Z",
          "iopub.status.idle": "2024-04-30T14:33:48.447599Z",
          "shell.execute_reply.started": "2024-04-30T14:33:48.306706Z",
          "shell.execute_reply": "2024-04-30T14:33:48.445987Z"
        },
        "trusted": true,
        "id": "gOwp2lX3Dn8K"
      },
      "execution_count": 10,
      "outputs": []
    },
    {
      "cell_type": "code",
      "source": [
        "# IMDB DATASET\n",
        "df_imdb_movies = spark.read \\\n",
        "                    .option(\"inferSchema\", \"true\") \\\n",
        "                    .option(\"header\", \"true\") \\\n",
        "                    .csv(imdb_path_output)\n",
        "\n",
        "df_imdb_movies.printSchema()"
      ],
      "metadata": {
        "execution": {
          "iopub.status.busy": "2024-04-30T14:33:48.449796Z",
          "iopub.execute_input": "2024-04-30T14:33:48.451353Z",
          "iopub.status.idle": "2024-04-30T14:33:56.631496Z",
          "shell.execute_reply.started": "2024-04-30T14:33:48.451306Z",
          "shell.execute_reply": "2024-04-30T14:33:56.630227Z"
        },
        "trusted": true,
        "id": "06xMjitgDn8L",
        "colab": {
          "base_uri": "https://localhost:8080/"
        },
        "outputId": "c00108a1-c98f-424d-fa90-d24731463de3"
      },
      "execution_count": 11,
      "outputs": [
        {
          "output_type": "stream",
          "name": "stdout",
          "text": [
            "root\n",
            " |-- title: string (nullable = true)\n",
            " |-- year: string (nullable = true)\n",
            " |-- runtime: integer (nullable = true)\n",
            " |-- certificate: string (nullable = true)\n",
            " |-- genre: string (nullable = true)\n",
            " |-- director: string (nullable = true)\n",
            " |-- stars: string (nullable = true)\n",
            " |-- rating: double (nullable = true)\n",
            " |-- metascore: double (nullable = true)\n",
            " |-- votes: integer (nullable = true)\n",
            " |-- gross: double (nullable = true)\n",
            "\n"
          ]
        }
      ]
    },
    {
      "cell_type": "code",
      "source": [
        "# Lista delle colonne da convertire e il relativo tipo di dato\n",
        "columns_to_convert = {\n",
        "    \"year\": \"integer\",\n",
        "    \"rating\": \"float\",\n",
        "    \"metascore\": \"float\",\n",
        "    \"votes\": \"integer\",\n",
        "    \"gross\": \"float\"\n",
        "}\n",
        "\n",
        "# Converti le colonne specificate nel tipo di dato desiderato\n",
        "for col_name, col_type in columns_to_convert.items():\n",
        "    df_imdb_movies = df_imdb_movies.withColumn(col_name, col(col_name).cast(col_type))\n",
        "\n",
        "# Specifica la colonna da convertire e il relativo tipo di dato\n",
        "columns_to_convert = [\"genre\",\"director\",\"stars\"]\n",
        "\n",
        "# Converti la colonna specificata nel tipo di dato desiderato\n",
        "for column in columns_to_convert:\n",
        "    df_imdb_movies = df_imdb_movies.withColumn(column, split(col(column), \",\"))\n",
        "\n",
        "# Elimina film ripetuti\n",
        "df_imdb_movies = df_imdb_movies.distinct()\n",
        "\n",
        "# Verifica lo schema aggiornato\n",
        "df_imdb_movies.printSchema()"
      ],
      "metadata": {
        "execution": {
          "iopub.status.busy": "2024-04-30T14:33:56.633345Z",
          "iopub.execute_input": "2024-04-30T14:33:56.633903Z",
          "iopub.status.idle": "2024-04-30T14:33:56.990383Z",
          "shell.execute_reply.started": "2024-04-30T14:33:56.633861Z",
          "shell.execute_reply": "2024-04-30T14:33:56.989203Z"
        },
        "trusted": true,
        "id": "wKM_82NvDn8L",
        "colab": {
          "base_uri": "https://localhost:8080/"
        },
        "outputId": "478d08d8-d9b2-416c-e2fc-485ba3886396"
      },
      "execution_count": 12,
      "outputs": [
        {
          "output_type": "stream",
          "name": "stdout",
          "text": [
            "root\n",
            " |-- title: string (nullable = true)\n",
            " |-- year: integer (nullable = true)\n",
            " |-- runtime: integer (nullable = true)\n",
            " |-- certificate: string (nullable = true)\n",
            " |-- genre: array (nullable = true)\n",
            " |    |-- element: string (containsNull = false)\n",
            " |-- director: array (nullable = true)\n",
            " |    |-- element: string (containsNull = false)\n",
            " |-- stars: array (nullable = true)\n",
            " |    |-- element: string (containsNull = false)\n",
            " |-- rating: float (nullable = true)\n",
            " |-- metascore: float (nullable = true)\n",
            " |-- votes: integer (nullable = true)\n",
            " |-- gross: float (nullable = true)\n",
            "\n"
          ]
        }
      ]
    },
    {
      "cell_type": "code",
      "source": [
        "# Eliminiamo tutti i film con anno NULL (per le successive operazioni)\n",
        "df_imdb_movies = df_imdb_movies.filter(df_imdb_movies[\"year\"].isNotNull())"
      ],
      "metadata": {
        "execution": {
          "iopub.status.busy": "2024-04-30T14:33:56.991498Z",
          "iopub.execute_input": "2024-04-30T14:33:56.991821Z",
          "iopub.status.idle": "2024-04-30T14:33:57.0103Z",
          "shell.execute_reply.started": "2024-04-30T14:33:56.991793Z",
          "shell.execute_reply": "2024-04-30T14:33:57.009283Z"
        },
        "trusted": true,
        "id": "ikXcYeh2Dn8L"
      },
      "execution_count": 13,
      "outputs": []
    },
    {
      "cell_type": "markdown",
      "source": [
        "## GENRE DATASET"
      ],
      "metadata": {
        "id": "XOntzr98Dn8L"
      }
    },
    {
      "cell_type": "code",
      "source": [
        "# GENRE DATASET\n",
        "\n",
        "# Definisci una lista contenente tutti i percorsi dei file CSV\n",
        "file_paths = [\n",
        "    action_path, adventure_path, animation_path, biography_path,\n",
        "    comedy_path, drama_path, fantasy_path, history_path,\n",
        "    horror_path, music_path, mystery_path, romance_path,\n",
        "    sci_fi_path, sport_path, thriller_path, war_path\n",
        "]\n",
        "\n",
        "# Inizializza un DataFrame vuoto\n",
        "df_genre_movies = None\n",
        "\n",
        "# Carica ciascun file CSV e uniscilo al DataFrame combinato\n",
        "for path in file_paths:\n",
        "    df = spark.read.option(\"inferSchema\", \"true\").option(\"header\", \"true\").csv(path)\n",
        "    if df_genre_movies is None:\n",
        "        df_genre_movies = df\n",
        "    else:\n",
        "        df_genre_movies = df_genre_movies.union(df)\n",
        "\n",
        "# Verifica lo schema del DataFrame combinato\n",
        "df_genre_movies.printSchema()"
      ],
      "metadata": {
        "execution": {
          "iopub.status.busy": "2024-04-30T14:33:57.011282Z",
          "iopub.execute_input": "2024-04-30T14:33:57.011606Z",
          "iopub.status.idle": "2024-04-30T14:34:03.123153Z",
          "shell.execute_reply.started": "2024-04-30T14:33:57.011581Z",
          "shell.execute_reply": "2024-04-30T14:34:03.122146Z"
        },
        "trusted": true,
        "id": "sd8JBC_ZDn8L",
        "colab": {
          "base_uri": "https://localhost:8080/"
        },
        "outputId": "281c741a-b73f-4108-f1fe-7d192bd83cdd"
      },
      "execution_count": 14,
      "outputs": [
        {
          "output_type": "stream",
          "name": "stdout",
          "text": [
            "root\n",
            " |-- name: string (nullable = true)\n",
            " |-- year: integer (nullable = true)\n",
            " |-- movie_rated: string (nullable = true)\n",
            " |-- run_length: string (nullable = true)\n",
            " |-- genres: string (nullable = true)\n",
            " |-- release_date: string (nullable = true)\n",
            " |-- rating: double (nullable = true)\n",
            " |-- num_raters: integer (nullable = true)\n",
            " |-- num_reviews: integer (nullable = true)\n",
            " |-- review_url: string (nullable = true)\n",
            "\n"
          ]
        }
      ]
    },
    {
      "cell_type": "code",
      "source": [
        "# Converti durata in minuti per leggerlo come int\n",
        "hours = regexp_extract(col(\"run_length\"), r\"(\\d+)h\", 1).cast(\"int\")  # Estrae le ore\n",
        "minutes = regexp_extract(col(\"run_length\"), r\"(\\d+)min\", 1).cast(\"int\")  # Estrae i minuti\n",
        "df_genre_movies = df_genre_movies.withColumn(\"run_length\", (hours * 60) + minutes)\n",
        "\n",
        "# Specifica la colonna da convertire e il relativo tipo di dato\n",
        "column_to_convert = \"genres\"\n",
        "\n",
        "# Converti la colonna specificata nel tipo di dato desiderato\n",
        "df_genre_movies = df_genre_movies.withColumn(column_to_convert, regexp_replace(col(column_to_convert),r\" \",\"\"))\n",
        "df_genre_movies = df_genre_movies.withColumn(column_to_convert, split(col(column_to_convert), \";\"))\n",
        "df_genre_movies = df_genre_movies.withColumn(column_to_convert, array_remove(col(column_to_convert), \"\"))\n",
        "\n",
        "# Elimina film ripetuti\n",
        "df_genre_movies = df_genre_movies.distinct()\n",
        "\n",
        "# Verifica lo schema aggiornato\n",
        "df_genre_movies.printSchema()"
      ],
      "metadata": {
        "execution": {
          "iopub.status.busy": "2024-04-30T14:34:03.124058Z",
          "iopub.execute_input": "2024-04-30T14:34:03.124336Z",
          "iopub.status.idle": "2024-04-30T14:34:03.239537Z",
          "shell.execute_reply.started": "2024-04-30T14:34:03.124311Z",
          "shell.execute_reply": "2024-04-30T14:34:03.238328Z"
        },
        "trusted": true,
        "id": "eeChJb35Dn8L",
        "colab": {
          "base_uri": "https://localhost:8080/"
        },
        "outputId": "82817d5f-0845-4cb9-dcff-bb8d60fa67d4"
      },
      "execution_count": 15,
      "outputs": [
        {
          "output_type": "stream",
          "name": "stdout",
          "text": [
            "root\n",
            " |-- name: string (nullable = true)\n",
            " |-- year: integer (nullable = true)\n",
            " |-- movie_rated: string (nullable = true)\n",
            " |-- run_length: integer (nullable = true)\n",
            " |-- genres: array (nullable = true)\n",
            " |    |-- element: string (containsNull = false)\n",
            " |-- release_date: string (nullable = true)\n",
            " |-- rating: double (nullable = true)\n",
            " |-- num_raters: integer (nullable = true)\n",
            " |-- num_reviews: integer (nullable = true)\n",
            " |-- review_url: string (nullable = true)\n",
            "\n"
          ]
        }
      ]
    },
    {
      "cell_type": "markdown",
      "source": [
        "# OPERATIONS"
      ],
      "metadata": {
        "id": "Pfb8IA1GDn8L"
      }
    },
    {
      "cell_type": "markdown",
      "source": [
        "## Troviamo tutti film comuni tra dataset"
      ],
      "metadata": {
        "id": "ix8Lu4-LDn8L"
      }
    },
    {
      "cell_type": "code",
      "source": [
        "print(df_imdb_movies.count())\n",
        "print(df_genre_movies.count())"
      ],
      "metadata": {
        "execution": {
          "iopub.status.busy": "2024-04-30T16:06:56.287895Z",
          "iopub.execute_input": "2024-04-30T16:06:56.288411Z",
          "iopub.status.idle": "2024-04-30T16:07:00.818735Z",
          "shell.execute_reply.started": "2024-04-30T16:06:56.288375Z",
          "shell.execute_reply": "2024-04-30T16:07:00.816552Z"
        },
        "trusted": true,
        "id": "twiqMeCxDn8L",
        "colab": {
          "base_uri": "https://localhost:8080/"
        },
        "outputId": "24160fbc-2406-4dac-8084-87c3d984596c"
      },
      "execution_count": 16,
      "outputs": [
        {
          "output_type": "stream",
          "name": "stdout",
          "text": [
            "9184\n",
            "1338\n"
          ]
        }
      ]
    },
    {
      "cell_type": "code",
      "source": [
        "df_common_movies = df_imdb_movies.join(df_genre_movies, (df_imdb_movies[\"title\"] == df_genre_movies[\"name\"])\n",
        "                                         & (df_imdb_movies[\"year\"] == df_genre_movies[\"year\"]))\\\n",
        "                                        .select(df_imdb_movies[\"title\"],df_imdb_movies['year'])\\\n",
        "                                        .distinct()\n",
        "\n",
        "df_common_movies.show()\n",
        "print(df_common_movies.count())"
      ],
      "metadata": {
        "execution": {
          "iopub.status.busy": "2024-04-30T16:07:00.821324Z",
          "iopub.execute_input": "2024-04-30T16:07:00.82185Z",
          "iopub.status.idle": "2024-04-30T16:07:08.194735Z",
          "shell.execute_reply.started": "2024-04-30T16:07:00.821809Z",
          "shell.execute_reply": "2024-04-30T16:07:08.193213Z"
        },
        "trusted": true,
        "id": "1oLYX9BYDn8L",
        "colab": {
          "base_uri": "https://localhost:8080/"
        },
        "outputId": "88d2d547-7eeb-470c-8e50-15f952b90afa"
      },
      "execution_count": 17,
      "outputs": [
        {
          "output_type": "stream",
          "name": "stdout",
          "text": [
            "+--------------------+----+\n",
            "|               title|year|\n",
            "+--------------------+----+\n",
            "|    The Caine Mutiny|1954|\n",
            "|         Crazy Heart|2009|\n",
            "|   Dog Day Afternoon|1975|\n",
            "|The Secret Life o...|2013|\n",
            "|       The Godfather|1972|\n",
            "|          Shark Tale|2004|\n",
            "|The Greatest Showman|2017|\n",
            "|     Velvet Goldmine|1998|\n",
            "|  American History X|1998|\n",
            "|    Independence Day|1996|\n",
            "|The Passion of Jo...|1928|\n",
            "|         The Pianist|2002|\n",
            "|  The Color of Money|1986|\n",
            "|For Love of the Game|1999|\n",
            "|          Cinderella|1950|\n",
            "|Star Wars: Episod...|2017|\n",
            "|            Insomnia|2002|\n",
            "|The Devil Wears P...|2006|\n",
            "|      Shall We Dance|2004|\n",
            "|       The Evil Dead|1981|\n",
            "+--------------------+----+\n",
            "only showing top 20 rows\n",
            "\n",
            "973\n"
          ]
        }
      ]
    },
    {
      "cell_type": "markdown",
      "source": [
        "## Troviamo tutti film tra i dataset"
      ],
      "metadata": {
        "id": "4UUyt8dXDn8L"
      }
    },
    {
      "cell_type": "code",
      "source": [
        "df_all_movies = df_imdb_movies.select('title','year').union(df_genre_movies.select('name','year')).distinct()\n",
        "\n",
        "df_all_movies.show()\n",
        "print(df_all_movies.count())"
      ],
      "metadata": {
        "execution": {
          "iopub.status.busy": "2024-04-30T16:07:08.196355Z",
          "iopub.execute_input": "2024-04-30T16:07:08.197309Z",
          "iopub.status.idle": "2024-04-30T16:07:13.790462Z",
          "shell.execute_reply.started": "2024-04-30T16:07:08.197263Z",
          "shell.execute_reply": "2024-04-30T16:07:13.78902Z"
        },
        "trusted": true,
        "id": "fdil-_7cDn8L",
        "colab": {
          "base_uri": "https://localhost:8080/"
        },
        "outputId": "3ec4543d-aac8-441e-9757-59fb423e78e5"
      },
      "execution_count": 18,
      "outputs": [
        {
          "output_type": "stream",
          "name": "stdout",
          "text": [
            "+--------------------+----+\n",
            "|               title|year|\n",
            "+--------------------+----+\n",
            "|         Money Train|1995|\n",
            "|    The Caine Mutiny|1954|\n",
            "|      In the Bedroom|2001|\n",
            "|Everything Everyw...|2022|\n",
            "|The Midnight Meat...|2008|\n",
            "|         Çiçek Abbas|1982|\n",
            "|  And Then We Danced|2019|\n",
            "|       Smoke Signals|1998|\n",
            "|     The Hate U Give|2018|\n",
            "|Fear City: A Fami...|1994|\n",
            "|             Beckett|2021|\n",
            "|          Stake Land|2010|\n",
            "|Balls Out: Gary t...|2009|\n",
            "|         Crazy Heart|2009|\n",
            "|A Home at the End...|2004|\n",
            "|     Valhalla Rising|2009|\n",
            "|   Riders of Justice|2020|\n",
            "|The Siege of Jado...|2016|\n",
            "|        Belle Epoque|1992|\n",
            "|             Sleeper|1973|\n",
            "+--------------------+----+\n",
            "only showing top 20 rows\n",
            "\n",
            "9337\n"
          ]
        }
      ]
    },
    {
      "cell_type": "markdown",
      "source": [
        "## Film più votati positivamente"
      ],
      "metadata": {
        "id": "Qnxchm5KDn8L"
      }
    },
    {
      "cell_type": "code",
      "source": [
        "rating_imdb = df_imdb_movies.select(\"title\",\"year\",\"rating\")\n",
        "rating_imdb = rating_imdb.withColumnRenamed(\"rating\", \"rating_imdb\")\n",
        "df_all_movies_voted = df_all_movies.join(rating_imdb, (df_all_movies[\"title\"]==rating_imdb[\"title\"])\n",
        "                                   & when(df_all_movies[\"year\"].isNotNull(), (df_all_movies[\"year\"]==rating_imdb[\"year\"])), \"left_outer\")\\\n",
        "                                   .select(df_all_movies[\"title\"],df_all_movies[\"year\"],rating_imdb[\"rating_imdb\"]).distinct()\n",
        "\n",
        "rating_genre = df_genre_movies.select(\"name\",\"year\",\"rating\")\n",
        "rating_genre = rating_genre.withColumnRenamed(\"rating\", \"rating_genre\")\n",
        "df_all_movies_voted = df_all_movies_voted.join(rating_genre, (df_all_movies_voted[\"title\"]==rating_genre[\"name\"])\n",
        "                                         &(df_all_movies_voted[\"year\"]==rating_genre[\"year\"]), \"left_outer\")\\\n",
        "                                         .select(df_all_movies[\"title\"],df_all_movies[\"year\"],\\\n",
        "                                                 rating_imdb[\"rating_imdb\"],rating_genre[\"rating_genre\"]).distinct()\n",
        "\n",
        "df_all_movies_voted = df_all_movies_voted.withColumn(\"rating\", when(col(\"rating_imdb\").isNotNull()\n",
        "                                                             & col(\"rating_genre\").isNotNull(),\n",
        "                                                             round((col(\"rating_imdb\")+col(\"rating_genre\"))/lit(2),1))\\\n",
        "                                                            .otherwise(round(coalesce(col(\"rating_imdb\"), col(\"rating_genre\")), 1)))\n",
        "\n",
        "df_all_movies_voted = df_all_movies_voted.select(\"title\",\"year\",\"rating\")\n",
        "top_10 = df_all_movies_voted.orderBy(desc(\"rating\")).limit(10)\n",
        "\n",
        "top_10.show()"
      ],
      "metadata": {
        "execution": {
          "iopub.status.busy": "2024-04-30T16:07:13.793962Z",
          "iopub.execute_input": "2024-04-30T16:07:13.794483Z",
          "iopub.status.idle": "2024-04-30T16:07:19.380529Z",
          "shell.execute_reply.started": "2024-04-30T16:07:13.794438Z",
          "shell.execute_reply": "2024-04-30T16:07:19.379102Z"
        },
        "trusted": true,
        "id": "A89Ws7DfDn8L",
        "colab": {
          "base_uri": "https://localhost:8080/"
        },
        "outputId": "9e5cdaa9-977e-476e-92e3-a306ae203ad6"
      },
      "execution_count": 19,
      "outputs": [
        {
          "output_type": "stream",
          "name": "stdout",
          "text": [
            "+--------------------+----+------+\n",
            "|               title|year|rating|\n",
            "+--------------------+----+------+\n",
            "|The Shawshank Red...|1994|   9.3|\n",
            "|     The Chaos Class|1975|   9.2|\n",
            "|       The Godfather|1972|   9.2|\n",
            "|Ramayana: The Leg...|1993|   9.2|\n",
            "|               Daman|2022|   9.1|\n",
            "|        12 Angry Men|1957|   9.0|\n",
            "|The Godfather: Pa...|1974|   9.0|\n",
            "|The Godfather Par...|1974|   9.0|\n",
            "|         Mirror Game|2016|   9.0|\n",
            "|    Schindler's List|1993|   9.0|\n",
            "+--------------------+----+------+\n",
            "\n"
          ]
        }
      ]
    },
    {
      "cell_type": "markdown",
      "source": [
        "## Film Peggiori"
      ],
      "metadata": {
        "id": "4IZ7WgSJDn8M"
      }
    },
    {
      "cell_type": "code",
      "source": [
        "flop_10 = df_all_movies_voted.orderBy(\"rating\").limit(10)\n",
        "flop_10.show()"
      ],
      "metadata": {
        "execution": {
          "iopub.status.busy": "2024-04-30T16:07:19.391431Z",
          "iopub.execute_input": "2024-04-30T16:07:19.392043Z",
          "iopub.status.idle": "2024-04-30T16:07:24.419872Z",
          "shell.execute_reply.started": "2024-04-30T16:07:19.391995Z",
          "shell.execute_reply": "2024-04-30T16:07:24.41868Z"
        },
        "trusted": true,
        "id": "3Zw7e_LODn8M",
        "colab": {
          "base_uri": "https://localhost:8080/"
        },
        "outputId": "2f6fec1d-074f-4e0b-a540-a95c89a1538e"
      },
      "execution_count": 20,
      "outputs": [
        {
          "output_type": "stream",
          "name": "stdout",
          "text": [
            "+--------------------+----+------+\n",
            "|               title|year|rating|\n",
            "+--------------------+----+------+\n",
            "|         Spice World|1997|   3.5|\n",
            "|       The Love Guru|2008|   3.8|\n",
            "|Fifty Shades of Grey|2015|   4.1|\n",
            "|In the Land of Bl...|2011|   4.5|\n",
            "|              Driven|2001|   4.6|\n",
            "|The Twilight Saga...|2009|   4.7|\n",
            "|      The Big Bounce|2004|   4.9|\n",
            "|           Boat Trip|2002|   4.9|\n",
            "|Temptation: Confe...|2013|   4.9|\n",
            "|Did You Hear Abou...|2009|   4.9|\n",
            "+--------------------+----+------+\n",
            "\n"
          ]
        }
      ]
    },
    {
      "cell_type": "markdown",
      "source": [
        "## Film votato da più utenti"
      ],
      "metadata": {
        "id": "KHK93L9wDn8M"
      }
    },
    {
      "cell_type": "code",
      "source": [
        "df_voters = df_all_movies.select(\"*\").withColumn(\"voters\",lit(0))\n",
        "\n",
        "df_voters_imdb = df_imdb_movies.select(\"title\",\"year\",\"votes\")\n",
        "df_voters_imdb = df_voters_imdb.withColumnRenamed(\"votes\", \"voters_imdb\")\n",
        "df_voters = df_voters.join(df_voters_imdb, (df_voters[\"title\"]==df_voters_imdb[\"title\"])\n",
        "                     &(df_voters[\"year\"]==df_voters_imdb[\"year\"]), \"left_outer\")\\\n",
        "                     .select(df_voters[\"title\"],df_voters[\"year\"],df_voters_imdb[\"voters_imdb\"]).distinct()\n",
        "\n",
        "df_voters_genre = df_genre_movies.select(\"name\",\"year\",\"num_raters\")\n",
        "df_voters_genre = df_voters_genre.groupBy(\"name\",\"year\").avg(\"num_raters\")\n",
        "df_voters_genre = df_voters_genre.withColumn(\"voters_genre\", col(\"avg(num_raters)\").cast(\"int\"))\n",
        "df_voters_genre = df_voters_genre.select(\"name\",\"year\",\"voters_genre\")\n",
        "df_voters = df_voters.join(df_voters_genre, (df_voters[\"title\"]==df_voters_genre[\"name\"])\n",
        "                     &(df_voters[\"year\"]==df_voters_genre[\"year\"]), \"left_outer\")\\\n",
        "                     .select(df_voters[\"title\"],df_voters[\"year\"],df_voters_imdb[\"voters_imdb\"],df_voters_genre[\"voters_genre\"])\\\n",
        "                     .distinct()\n",
        "\n",
        "df_voters = df_voters.withColumn(\"voters\", greatest(col(\"voters_imdb\"),col(\"voters_genre\")))\\\n",
        "                     .select(\"title\",\"year\",\"voters\")\n",
        "\n",
        "most_voted = df_voters.orderBy(desc(\"voters\")).limit(1)\n",
        "\n",
        "most_voted.show()"
      ],
      "metadata": {
        "trusted": true,
        "id": "OTVyr7vWDn8M",
        "colab": {
          "base_uri": "https://localhost:8080/"
        },
        "outputId": "279944e0-1abb-4c14-b4c2-c5230de4ac91"
      },
      "execution_count": 21,
      "outputs": [
        {
          "output_type": "stream",
          "name": "stdout",
          "text": [
            "+--------------------+----+-------+\n",
            "|               title|year| voters|\n",
            "+--------------------+----+-------+\n",
            "|The Shawshank Red...|1994|2780534|\n",
            "+--------------------+----+-------+\n",
            "\n"
          ]
        }
      ]
    },
    {
      "cell_type": "markdown",
      "source": [
        "Un'alternativa di esecuzione della query precedente, che non prevede l'ordinamento del dataframe finale ma l'individuazione del valore massimo della colonna \"voters\", è la seguente:"
      ],
      "metadata": {
        "id": "lPHhunQCW1y_"
      }
    },
    {
      "cell_type": "code",
      "source": [
        "df_voters = df_all_movies.select(\"*\").withColumn(\"voters\",lit(0))\n",
        "\n",
        "df_voters_imdb = df_imdb_movies.select(\"title\",\"year\",\"votes\")\n",
        "df_voters_imdb = df_voters_imdb.withColumnRenamed(\"votes\", \"voters_imdb\")\n",
        "df_voters = df_voters.join(df_voters_imdb, (df_voters[\"title\"]==df_voters_imdb[\"title\"])\n",
        "                     &(df_voters[\"year\"]==df_voters_imdb[\"year\"]), \"left_outer\")\\\n",
        "                     .select(df_voters[\"title\"],df_voters[\"year\"],df_voters_imdb[\"voters_imdb\"]).distinct()\n",
        "\n",
        "df_voters_genre = df_genre_movies.select(\"name\",\"year\",\"num_raters\")\n",
        "df_voters_genre = df_voters_genre.groupBy(\"name\",\"year\").avg(\"num_raters\")\n",
        "df_voters_genre = df_voters_genre.withColumn(\"voters_genre\", col(\"avg(num_raters)\").cast(\"int\"))\n",
        "df_voters_genre = df_voters_genre.select(\"name\",\"year\",\"voters_genre\")\n",
        "df_voters = df_voters.join(df_voters_genre, (df_voters[\"title\"]==df_voters_genre[\"name\"])\n",
        "                     &(df_voters[\"year\"]==df_voters_genre[\"year\"]), \"left_outer\")\\\n",
        "                     .select(df_voters[\"title\"],df_voters[\"year\"],df_voters_imdb[\"voters_imdb\"],df_voters_genre[\"voters_genre\"])\\\n",
        "                     .distinct()\n",
        "\n",
        "df_voters = df_voters.withColumn(\"voters\", greatest(col(\"voters_imdb\"),col(\"voters_genre\")))\n",
        "\n",
        "most_voted = df_voters.select(\"title\",\"year\",\"voters\").select(max(\"voters\")).collect()[0][0]\n",
        "\n",
        "most_voted = df_voters.select('title','year','voters').where(col('voters')==most_voted)\n",
        "\n",
        "most_voted.show()"
      ],
      "metadata": {
        "trusted": true,
        "id": "YppdxzCODn8M",
        "colab": {
          "base_uri": "https://localhost:8080/"
        },
        "outputId": "f41fbc54-dbb2-444e-d671-745cb79f0caf"
      },
      "execution_count": 22,
      "outputs": [
        {
          "output_type": "stream",
          "name": "stdout",
          "text": [
            "+--------------------+----+-------+\n",
            "|               title|year| voters|\n",
            "+--------------------+----+-------+\n",
            "|The Shawshank Red...|1994|2780534|\n",
            "+--------------------+----+-------+\n",
            "\n"
          ]
        }
      ]
    },
    {
      "cell_type": "markdown",
      "source": [
        "## Film recensito da più utenti"
      ],
      "metadata": {
        "id": "hZQRmV7UDn8M"
      }
    },
    {
      "cell_type": "code",
      "source": [
        "most_reviewed = df_genre_movies.groupBy('name','year').avg('num_reviews')\\\n",
        "                .select('name','year', 'avg(num_reviews)')\n",
        "\n",
        "most_reviewed = most_reviewed.select(\"name\",\"year\",\"avg(num_reviews)\")\\\n",
        "                   .orderBy(desc(\"avg(num_reviews)\")).limit(1)\n",
        "\n",
        "most_reviewed.show()"
      ],
      "metadata": {
        "trusted": true,
        "id": "L2ki-dJ3Dn8M",
        "colab": {
          "base_uri": "https://localhost:8080/"
        },
        "outputId": "2fd127f4-eecf-4244-a75a-ff5b78398468"
      },
      "execution_count": 23,
      "outputs": [
        {
          "output_type": "stream",
          "name": "stdout",
          "text": [
            "+-----+----+----------------+\n",
            "| name|year|avg(num_reviews)|\n",
            "+-----+----+----------------+\n",
            "|Joker|2019|         10279.0|\n",
            "+-----+----+----------------+\n",
            "\n"
          ]
        }
      ]
    },
    {
      "cell_type": "markdown",
      "source": [
        "## Rating Ponderato"
      ],
      "metadata": {
        "id": "NbCvJTVvDn8M"
      }
    },
    {
      "cell_type": "code",
      "source": [
        "# A parità di voti, si studia il rating di ogni film\n",
        "df_ratio = df_all_movies_voted.join(df_voters, (df_all_movies_voted['title']==df_voters['title'])\\\n",
        "                             & (df_all_movies_voted['year']==df_voters['year']))\\\n",
        "                        .select(df_all_movies_voted['title'], df_all_movies_voted['year'], 'voters', 'rating')\n",
        "\n",
        "df_ratio = df_ratio.withColumn(\"weighted_rating\", round(df_ratio['rating'] * (log10(col(\"voters\"))),1))\n",
        "best_movies = df_ratio.select('title','year','weighted_rating', 'rating', 'voters').orderBy(desc('weighted_rating')).limit(10)\n",
        "best_movies.show(truncate=False)"
      ],
      "metadata": {
        "trusted": true,
        "id": "Sqe0LLwYDn8M",
        "colab": {
          "base_uri": "https://localhost:8080/"
        },
        "outputId": "cb3c6a1c-d6f4-46bc-a3a3-5107eb5f0518"
      },
      "execution_count": 24,
      "outputs": [
        {
          "output_type": "stream",
          "name": "stdout",
          "text": [
            "+-------------------------------------------------+----+---------------+------+-------+\n",
            "|title                                            |year|weighted_rating|rating|voters |\n",
            "+-------------------------------------------------+----+---------------+------+-------+\n",
            "|The Shawshank Redemption                         |1994|59.9           |9.3   |2780534|\n",
            "|The Dark Knight                                  |2008|58.0           |9.0   |2758250|\n",
            "|The Godfather                                    |1972|57.8           |9.2   |1935895|\n",
            "|The Lord of the Rings: The Return of the King    |2003|56.5           |9.0   |1905920|\n",
            "|Pulp Fiction                                     |1994|56.3           |8.9   |2133402|\n",
            "|Inception                                        |2010|56.2           |8.8   |2448697|\n",
            "|Fight Club                                       |1999|55.8           |8.8   |2215896|\n",
            "|Forrest Gump                                     |1994|55.7           |8.8   |2162613|\n",
            "|Schindler's List                                 |1993|55.3           |9.0   |1399258|\n",
            "|The Lord of the Rings: The Fellowship of the Ring|2001|55.3           |8.8   |1934128|\n",
            "+-------------------------------------------------+----+---------------+------+-------+\n",
            "\n"
          ]
        }
      ]
    },
    {
      "cell_type": "markdown",
      "source": [
        "## Quanti film per genere"
      ],
      "metadata": {
        "id": "Gi03W6ckDn8M"
      }
    },
    {
      "cell_type": "code",
      "source": [
        "df_imdb_exploded = df_imdb_movies.withColumn(\"genre\", explode(\"genre\"))\n",
        "\n",
        "# Ottieni i valori unici della colonna esplosa\n",
        "df_unique_genre = df_imdb_exploded.select(\"genre\").distinct()\n",
        "\n",
        "lista_genres = []\n",
        "for i in range (df_unique_genre.count()):\n",
        "    lista_genres.append(df_unique_genre.collect()[i][0])\n",
        "\n",
        "print(lista_genres)"
      ],
      "metadata": {
        "trusted": true,
        "id": "xT112TDhDn8M",
        "colab": {
          "base_uri": "https://localhost:8080/"
        },
        "outputId": "b0b08250-831b-4531-a908-45e4f932bf49"
      },
      "execution_count": 25,
      "outputs": [
        {
          "output_type": "stream",
          "name": "stdout",
          "text": [
            "['Crime', 'Romance', 'Thriller', 'Adventure', 'Drama', 'War', 'Family', 'Fantasy', 'History', 'Mystery', 'Musical', 'Animation', 'Music', 'Film-Noir', 'Horror', 'Western', 'Biography', 'Comedy', 'Action', 'Sport', 'Sci-Fi']\n"
          ]
        }
      ]
    },
    {
      "cell_type": "code",
      "source": [
        "film_x_genre = {}\n",
        "\n",
        "for elem in lista_genres:\n",
        "    imdb_genre = df_imdb_movies.filter(array_contains(col(\"genre\"), elem))\\\n",
        "                                .select('title','year','genre').count()\n",
        "    film_x_genre[elem] = imdb_genre\n",
        "\n",
        "print(film_x_genre)"
      ],
      "metadata": {
        "trusted": true,
        "id": "VHXsTdDCDn8M",
        "colab": {
          "base_uri": "https://localhost:8080/"
        },
        "outputId": "ba52df4e-19f8-4f7b-d04a-d19d5979cb34"
      },
      "execution_count": 26,
      "outputs": [
        {
          "output_type": "stream",
          "name": "stdout",
          "text": [
            "{'Crime': 1940, 'Romance': 1616, 'Thriller': 1455, 'Adventure': 1556, 'Drama': 5366, 'War': 220, 'Family': 435, 'Fantasy': 661, 'History': 325, 'Mystery': 952, 'Musical': 128, 'Animation': 462, 'Music': 261, 'Film-Noir': 59, 'Horror': 1079, 'Western': 107, 'Biography': 626, 'Comedy': 3414, 'Action': 2281, 'Sport': 191, 'Sci-Fi': 619}\n"
          ]
        }
      ]
    },
    {
      "cell_type": "code",
      "source": [
        "df_diff = df_genre_movies.join(df_common_movies, (df_genre_movies[\"name\"]==df_common_movies[\"title\"])\n",
        "                            & (df_genre_movies[\"year\"]==df_common_movies[\"year\"]), how=\"left_anti\")\n",
        "\n",
        "for elem in lista_genres:\n",
        "    genre_genre = df_diff.filter(array_contains(col(\"genres\"), elem))\\\n",
        "                                .select('name','year','genres').count()\n",
        "    film_x_genre[elem] += genre_genre\n",
        "\n",
        "print(film_x_genre)"
      ],
      "metadata": {
        "trusted": true,
        "id": "6yUoJ4b8Dn8M",
        "colab": {
          "base_uri": "https://localhost:8080/"
        },
        "outputId": "b0a8a4b8-2737-4280-8f47-07968704ca13"
      },
      "execution_count": 27,
      "outputs": [
        {
          "output_type": "stream",
          "name": "stdout",
          "text": [
            "{'Crime': 1957, 'Romance': 1649, 'Thriller': 1489, 'Adventure': 1596, 'Drama': 5460, 'War': 236, 'Family': 435, 'Fantasy': 676, 'History': 336, 'Mystery': 971, 'Musical': 128, 'Animation': 473, 'Music': 279, 'Film-Noir': 59, 'Horror': 1099, 'Western': 108, 'Biography': 651, 'Comedy': 3465, 'Action': 2312, 'Sport': 206, 'Sci-Fi': 645}\n"
          ]
        }
      ]
    },
    {
      "cell_type": "markdown",
      "source": [
        "## Media voti per genere"
      ],
      "metadata": {
        "id": "VPvbLQD2Dn8M"
      }
    },
    {
      "cell_type": "code",
      "source": [
        "df_diff_exploded = df_diff.withColumn(\"genre\", explode(\"genres\"))\n",
        "\n",
        "# uniamo le tabelle exploded\n",
        "df_exploded = df_imdb_exploded.select('genre', 'rating').union(df_diff_exploded.select('genre', 'rating'))\n",
        "\n",
        "df_mean_genre = df_exploded.groupBy(\"genre\").avg('rating')\\\n",
        "                            .select('genre', 'avg(rating)')\n",
        "\n",
        "df_mean_genre = df_mean_genre.withColumn(\"rating\", round(col(\"avg(rating)\"),1)).select(\"genre\",\"rating\")\n",
        "\n",
        "# Conta il numero di film per genere\n",
        "film_count_per_genre = df_exploded.groupBy(\"genre\").agg(count('*').alias('film_count'))\n",
        "\n",
        "# Unisci i due DataFrame\n",
        "df_mean_genre_with_count = df_mean_genre.join(film_count_per_genre, 'genre', 'inner')\n",
        "\n",
        "df_mean_genre_with_count.show()"
      ],
      "metadata": {
        "trusted": true,
        "id": "NURnP2xHDn8Q",
        "colab": {
          "base_uri": "https://localhost:8080/"
        },
        "outputId": "84bc4cf6-5f55-4314-fad5-25e19e35eddb"
      },
      "execution_count": 28,
      "outputs": [
        {
          "output_type": "stream",
          "name": "stdout",
          "text": [
            "+---------+------+----------+\n",
            "|    genre|rating|film_count|\n",
            "+---------+------+----------+\n",
            "|    Crime|   6.8|      1957|\n",
            "|  Romance|   6.7|      1649|\n",
            "| Thriller|   6.6|      1489|\n",
            "|Adventure|   6.7|      1596|\n",
            "|    Drama|   7.0|      5460|\n",
            "|      War|   7.3|       236|\n",
            "|   Family|   6.6|       435|\n",
            "|  Fantasy|   6.5|       676|\n",
            "|  History|   7.1|       336|\n",
            "|  Mystery|   6.6|       971|\n",
            "|  Musical|   7.0|       128|\n",
            "|Animation|   7.0|       473|\n",
            "|    Music|   6.9|       279|\n",
            "|Film-Noir|   7.7|        59|\n",
            "|   Horror|   6.2|      1099|\n",
            "|  Western|   7.2|       108|\n",
            "|Biography|   7.1|       651|\n",
            "|   Comedy|   6.6|      3465|\n",
            "|   Action|   6.6|      2312|\n",
            "|    Sport|   6.8|       206|\n",
            "+---------+------+----------+\n",
            "only showing top 20 rows\n",
            "\n"
          ]
        }
      ]
    },
    {
      "cell_type": "markdown",
      "source": [
        "## Quanto dura in media un film"
      ],
      "metadata": {
        "id": "K65KRP7BDn8Q"
      }
    },
    {
      "cell_type": "code",
      "source": [
        "df_time = df_genre_movies.select(avg('run_length'))\n",
        "df_time = df_time.withColumn(\"run_length\", round(col(\"avg(run_length)\"),1)).select(\"run_length\")\n",
        "\n",
        "# Vediamo che in media un film dura 2h, ovvero 120min\n",
        "df_time.show()"
      ],
      "metadata": {
        "trusted": true,
        "id": "9lAVfcNPDn8Q",
        "colab": {
          "base_uri": "https://localhost:8080/"
        },
        "outputId": "45575f81-6a7b-446f-af02-03c123f337c6"
      },
      "execution_count": 29,
      "outputs": [
        {
          "output_type": "stream",
          "name": "stdout",
          "text": [
            "+----------+\n",
            "|run_length|\n",
            "+----------+\n",
            "|     120.5|\n",
            "+----------+\n",
            "\n"
          ]
        }
      ]
    },
    {
      "cell_type": "markdown",
      "source": [
        "## Quanto dura in media un film per genere"
      ],
      "metadata": {
        "id": "geQ-f6heDn8Q"
      }
    },
    {
      "cell_type": "code",
      "source": [
        "df_genre_exploded = df_genre_movies.withColumn(\"genre\", explode(\"genres\"))\n",
        "\n",
        "df_time_genre = df_genre_exploded.groupBy('genre').avg('run_length').select('genre', 'avg(run_length)')\n",
        "\n",
        "df_time_genre = df_time_genre.orderBy(desc('avg(run_length)'))\n",
        "\n",
        "df_time_genre = df_time_genre.withColumn(\"run_length\", round(col(\"avg(run_length)\"),1))\\\n",
        "                             .select(\"genre\",\"run_length\")\n",
        "\n",
        "df_time_genre.show()"
      ],
      "metadata": {
        "trusted": true,
        "id": "YnT1d7zQDn8Q",
        "colab": {
          "base_uri": "https://localhost:8080/"
        },
        "outputId": "94448068-7587-4de4-ed2d-c434cdae9fcc"
      },
      "execution_count": 30,
      "outputs": [
        {
          "output_type": "stream",
          "name": "stdout",
          "text": [
            "+---------+----------+\n",
            "|    genre|run_length|\n",
            "+---------+----------+\n",
            "|  Western|     151.5|\n",
            "|  History|     139.6|\n",
            "|Biography|     132.2|\n",
            "|      War|     130.8|\n",
            "|    Drama|     128.5|\n",
            "|    Crime|     127.7|\n",
            "|   Action|     125.5|\n",
            "|   Sci-Fi|     124.3|\n",
            "|Adventure|     123.7|\n",
            "|  Fantasy|     121.1|\n",
            "|  Mystery|     120.3|\n",
            "| Thriller|     119.4|\n",
            "|  Romance|     119.4|\n",
            "|    Sport|     118.2|\n",
            "|    Music|     111.3|\n",
            "|   Horror|     107.1|\n",
            "|   Comedy|     105.6|\n",
            "|Animation|      96.0|\n",
            "+---------+----------+\n",
            "\n"
          ]
        }
      ]
    },
    {
      "cell_type": "markdown",
      "source": [
        "## Top Film per cadenza decennale"
      ],
      "metadata": {
        "id": "Xo5ObFp8Dn8Q"
      }
    },
    {
      "cell_type": "code",
      "source": [
        "df_decade = df_all_movies_voted.withColumn(\"decade\", (floor(col(\"year\") / 10) * 10).cast(\"int\"))\n",
        "\n",
        "k = 5\n",
        "\n",
        "window_spec = Window.partitionBy(\"decade\").orderBy(col(\"rating\").desc())\n",
        "\n",
        "df_top_decade = df_decade[['title','year','rating','decade']].withColumn(\"row_number\", row_number().over(window_spec))\n",
        "\n",
        "df_top_decade = df_top_decade.filter(col(\"row_number\") <= k).drop(\"row_number\").drop(\"decade\")\n",
        "\n",
        "df_top_decade.show()"
      ],
      "metadata": {
        "colab": {
          "base_uri": "https://localhost:8080/"
        },
        "id": "sEtIWBGNLZGV",
        "outputId": "fdc4918b-911b-4279-ceea-9b9d0127ba81"
      },
      "execution_count": 31,
      "outputs": [
        {
          "output_type": "stream",
          "name": "stdout",
          "text": [
            "+--------------------+----+------+\n",
            "|               title|year|rating|\n",
            "+--------------------+----+------+\n",
            "|         Intolerance|1916|   7.7|\n",
            "|Broken Blossoms o...|1919|   7.2|\n",
            "|The Birth of a Na...|1915|   6.2|\n",
            "|        Sherlock Jr.|1924|   8.2|\n",
            "|The Passion of Jo...|1928|   8.1|\n",
            "|          The Circus|1928|   8.1|\n",
            "|       The Gold Rush|1925|   8.1|\n",
            "|         The General|1926|   8.1|\n",
            "|         City Lights|1931|   8.5|\n",
            "|        Modern Times|1936|   8.5|\n",
            "|I Am a Fugitive f...|1932|   8.2|\n",
            "|All Quiet on the ...|1930|   8.1|\n",
            "|  Gone with the Wind|1939|   8.1|\n",
            "|It's a Wonderful ...|1946|   8.6|\n",
            "|          Casablanca|1942|   8.5|\n",
            "|  The Great Dictator|1940|   8.4|\n",
            "|Children of Paradise|1945|   8.3|\n",
            "|        Citizen Kane|1941|   8.3|\n",
            "|        12 Angry Men|1957|   9.0|\n",
            "|       Seven Samurai|1954|   8.6|\n",
            "+--------------------+----+------+\n",
            "only showing top 20 rows\n",
            "\n"
          ]
        }
      ]
    },
    {
      "cell_type": "markdown",
      "source": [
        "Un'alternativa all'approccio precedente, per risolvere questa query, è il seguente:"
      ],
      "metadata": {
        "id": "WouzZ3fwN4qW"
      }
    },
    {
      "cell_type": "code",
      "source": [
        "df_year = []\n",
        "for year in range(1910, 2030, 10):\n",
        "    df_year.append(df_all_movies_voted.filter((col('year')>=year) & (col('year')<(year+10)))\\\n",
        "                                    .orderBy(desc('rating')).limit(5))\n",
        "    df_year[-1].show(truncate=False)"
      ],
      "metadata": {
        "trusted": true,
        "id": "oXCq9wuFDn8Q",
        "colab": {
          "base_uri": "https://localhost:8080/"
        },
        "outputId": "e3e0c1ed-340c-4f0d-a6d4-a19bb18b3644"
      },
      "execution_count": 32,
      "outputs": [
        {
          "output_type": "stream",
          "name": "stdout",
          "text": [
            "+----------------------------------------------+----+------+\n",
            "|title                                         |year|rating|\n",
            "+----------------------------------------------+----+------+\n",
            "|Intolerance                                   |1916|7.7   |\n",
            "|Broken Blossoms or the Yellow Man and the Girl|1919|7.2   |\n",
            "|The Birth of a Nation                         |1915|6.2   |\n",
            "+----------------------------------------------+----+------+\n",
            "\n",
            "+--------------------------+----+------+\n",
            "|title                     |year|rating|\n",
            "+--------------------------+----+------+\n",
            "|Sherlock Jr.              |1924|8.2   |\n",
            "|The Passion of Joan of Arc|1928|8.1   |\n",
            "|The Circus                |1928|8.1   |\n",
            "|The Gold Rush             |1925|8.1   |\n",
            "|Sunrise                   |1927|8.1   |\n",
            "+--------------------------+----+------+\n",
            "\n",
            "+---------------------------------+----+------+\n",
            "|title                            |year|rating|\n",
            "+---------------------------------+----+------+\n",
            "|City Lights                      |1931|8.5   |\n",
            "|Modern Times                     |1936|8.5   |\n",
            "|I Am a Fugitive from a Chain Gang|1932|8.2   |\n",
            "|Gone with the Wind               |1939|8.1   |\n",
            "|The Wizard of Oz                 |1939|8.1   |\n",
            "+---------------------------------+----+------+\n",
            "\n",
            "+---------------------+----+------+\n",
            "|title                |year|rating|\n",
            "+---------------------+----+------+\n",
            "|It's a Wonderful Life|1946|8.6   |\n",
            "|Casablanca           |1942|8.5   |\n",
            "|The Great Dictator   |1940|8.4   |\n",
            "|Children of Paradise |1945|8.3   |\n",
            "|Citizen Kane         |1941|8.3   |\n",
            "+---------------------+----+------+\n",
            "\n",
            "+----------------+----+------+\n",
            "|title           |year|rating|\n",
            "+----------------+----+------+\n",
            "|12 Angry Men    |1957|9.0   |\n",
            "|Seven Samurai   |1954|8.6   |\n",
            "|Rear Window     |1954|8.5   |\n",
            "|The World of Apu|1959|8.5   |\n",
            "|Sunset Blvd.    |1950|8.4   |\n",
            "+----------------+----+------+\n",
            "\n",
            "+-----------------------------+----+------+\n",
            "|title                        |year|rating|\n",
            "+-----------------------------+----+------+\n",
            "|The Good,the Bad and the Ugly|1966|8.8   |\n",
            "|Harakiri                     |1962|8.6   |\n",
            "|Psycho                       |1960|8.5   |\n",
            "|Woman in the Dunes           |1964|8.5   |\n",
            "|Le Trou                      |1960|8.5   |\n",
            "+-----------------------------+----+------+\n",
            "\n",
            "+----------------------+----+------+\n",
            "|title                 |year|rating|\n",
            "+----------------------+----+------+\n",
            "|The Godfather         |1972|9.2   |\n",
            "|The Chaos Class       |1975|9.2   |\n",
            "|The Godfather: Part II|1974|9.0   |\n",
            "|The Godfather Part II |1974|9.0   |\n",
            "|Tosun Pasa            |1976|8.9   |\n",
            "+----------------------+----+------+\n",
            "\n",
            "+----------------------------------------------+----+------+\n",
            "|title                                         |year|rating|\n",
            "+----------------------------------------------+----+------+\n",
            "|Balkan Spy                                    |1984|8.8   |\n",
            "|Maratonci trce pocasni krug                   |1982|8.8   |\n",
            "|Star Wars: Episode V - The Empire Strikes Back|1980|8.7   |\n",
            "|Zügürt Aga                                    |1985|8.7   |\n",
            "|Who's Singin' Over There?                     |1980|8.7   |\n",
            "+----------------------------------------------+----+------+\n",
            "\n",
            "+-----------------------------------+----+------+\n",
            "|title                              |year|rating|\n",
            "+-----------------------------------+----+------+\n",
            "|The Shawshank Redemption           |1994|9.3   |\n",
            "|Ramayana: The Legend of Prince Rama|1993|9.2   |\n",
            "|Schindler's List                   |1993|9.0   |\n",
            "|Pulp Fiction                       |1994|8.9   |\n",
            "|Manichithrathazhu                  |1993|8.8   |\n",
            "+-----------------------------------+----+------+\n",
            "\n",
            "+-------------------------------------------------+----+------+\n",
            "|title                                            |year|rating|\n",
            "+-------------------------------------------------+----+------+\n",
            "|The Lord of the Rings: The Return of the King    |2003|9.0   |\n",
            "|The Dark Knight                                  |2008|9.0   |\n",
            "|The Lord of the Rings: The Fellowship of the Ring|2001|8.8   |\n",
            "|The Lord of the Rings: The Two Towers            |2002|8.8   |\n",
            "|Kill Bill: The Whole Bloody Affair               |2006|8.8   |\n",
            "+-------------------------------------------------+----+------+\n",
            "\n",
            "+-----------------+----+------+\n",
            "|title            |year|rating|\n",
            "+-----------------+----+------+\n",
            "|Mirror Game      |2016|9.0   |\n",
            "|Inception        |2010|8.8   |\n",
            "|Pariyerum Perumal|2018|8.7   |\n",
            "|Peranbu          |2018|8.7   |\n",
            "|Parasite         |2019|8.6   |\n",
            "+-----------------+----+------+\n",
            "\n",
            "+----------------------------------------------------+----+------+\n",
            "|title                                               |year|rating|\n",
            "+----------------------------------------------------+----+------+\n",
            "|Daman                                               |2022|9.1   |\n",
            "|Demon Slayer: Kimetsu no Yaiba - Tsuzumi Mansion Arc|2021|8.9   |\n",
            "|Spider-Man: Across the Spider-Verse                 |2023|8.9   |\n",
            "|Jai Bhim                                            |2021|8.8   |\n",
            "|#Home                                               |2021|8.8   |\n",
            "+----------------------------------------------------+----+------+\n",
            "\n"
          ]
        }
      ]
    },
    {
      "cell_type": "markdown",
      "source": [
        "## Quale decennio ha dato i film migliori mediamente e in assoluto"
      ],
      "metadata": {
        "id": "Vv-HRwRMDn8Q"
      }
    },
    {
      "cell_type": "code",
      "source": [
        "df_10_mean = df_decade.groupBy('decade').avg('rating')\n",
        "df_10_mean = df_10_mean.withColumn('rating', round(col('avg(rating)'), 1)).select('decade', 'rating')\n",
        "df_10_mean = df_10_mean.orderBy(desc('rating'))\n",
        "df_10_mean.show()"
      ],
      "metadata": {
        "trusted": true,
        "id": "LhoD3QpADn8Q",
        "colab": {
          "base_uri": "https://localhost:8080/"
        },
        "outputId": "3b4c59e6-4335-47b4-b306-19c8562e58df"
      },
      "execution_count": 33,
      "outputs": [
        {
          "output_type": "stream",
          "name": "stdout",
          "text": [
            "+------+------+\n",
            "|decade|rating|\n",
            "+------+------+\n",
            "|  1920|   7.8|\n",
            "|  1930|   7.6|\n",
            "|  1940|   7.6|\n",
            "|  1950|   7.5|\n",
            "|  1960|   7.5|\n",
            "|  1970|   7.2|\n",
            "|  1910|   7.0|\n",
            "|  1980|   6.8|\n",
            "|  1990|   6.7|\n",
            "|  2020|   6.6|\n",
            "|  2000|   6.6|\n",
            "|  2010|   6.6|\n",
            "+------+------+\n",
            "\n"
          ]
        }
      ]
    },
    {
      "cell_type": "code",
      "source": [
        "df_10_max = df_decade.groupBy('decade').max('rating')\n",
        "df_10_max = df_10_max.withColumn('rating', round(col('max(rating)'), 1)).select('decade', 'rating')\n",
        "df_10_max = df_10_max.orderBy(desc('rating'))\n",
        "df_10_max.show()"
      ],
      "metadata": {
        "trusted": true,
        "id": "9SFT5t8QDn8Q",
        "colab": {
          "base_uri": "https://localhost:8080/"
        },
        "outputId": "899f6552-ac44-4735-f8b8-ee894e036771"
      },
      "execution_count": 34,
      "outputs": [
        {
          "output_type": "stream",
          "name": "stdout",
          "text": [
            "+------+------+\n",
            "|decade|rating|\n",
            "+------+------+\n",
            "|  1990|   9.3|\n",
            "|  1970|   9.2|\n",
            "|  2020|   9.1|\n",
            "|  1950|   9.0|\n",
            "|  2000|   9.0|\n",
            "|  2010|   9.0|\n",
            "|  1960|   8.8|\n",
            "|  1980|   8.8|\n",
            "|  1940|   8.6|\n",
            "|  1930|   8.5|\n",
            "|  1920|   8.2|\n",
            "|  1910|   7.7|\n",
            "+------+------+\n",
            "\n"
          ]
        }
      ]
    },
    {
      "cell_type": "markdown",
      "source": [
        "## Attori che hanno fatto più film"
      ],
      "metadata": {
        "id": "C8Cw2XQQDn8Q"
      }
    },
    {
      "cell_type": "code",
      "source": [
        "df_imdb_exploded_actors = df_imdb_movies.withColumn(\"actor\", explode(\"stars\"))\n",
        "\n",
        "df_actors = df_imdb_exploded_actors.groupBy(\"actor\").agg(count(\"*\").alias(\"movies_number\"))\n",
        "df_actors = df_actors.orderBy(desc(\"movies_number\"))\n",
        "df_stars = df_actors.limit(10)\n",
        "df_stars.show()"
      ],
      "metadata": {
        "trusted": true,
        "id": "bBAM1yPjDn8Q",
        "colab": {
          "base_uri": "https://localhost:8080/"
        },
        "outputId": "74cf1af6-dc9b-43d5-b623-2eebe52771ad"
      },
      "execution_count": 35,
      "outputs": [
        {
          "output_type": "stream",
          "name": "stdout",
          "text": [
            "+-----------------+-------------+\n",
            "|            actor|movies_number|\n",
            "+-----------------+-------------+\n",
            "|   Robert De Niro|           62|\n",
            "|Samuel L. Jackson|           60|\n",
            "|     Nicolas Cage|           60|\n",
            "|     Bruce Willis|           54|\n",
            "|        Tom Hanks|           49|\n",
            "|   Clint Eastwood|           49|\n",
            "|   Morgan Freeman|           48|\n",
            "|    Nicole Kidman|           47|\n",
            "|      Jackie Chan|           45|\n",
            "|      Johnny Depp|           45|\n",
            "+-----------------+-------------+\n",
            "\n"
          ]
        }
      ]
    },
    {
      "cell_type": "markdown",
      "source": [
        "## Attori più presenti che hanno partecipato ai film più apprezzati"
      ],
      "metadata": {
        "id": "hL7yRfL7Dn8Q"
      }
    },
    {
      "cell_type": "code",
      "source": [
        "df_most_appreciated = top_10.join(df_imdb_exploded_actors, (top_10[\"title\"]==df_imdb_exploded_actors[\"title\"])\n",
        "                                 & (top_10[\"year\"]==df_imdb_exploded_actors[\"year\"]))\\\n",
        "                                  .select(top_10[\"title\"], top_10[\"year\"], top_10[\"rating\"],\n",
        "                                         df_imdb_exploded_actors[\"actor\"])\n",
        "\n",
        "df_most_appreciated = df_most_appreciated.withColumnRenamed(\"actor\",\"top_actor\")\n",
        "\n",
        "df_most_appreciated = df_most_appreciated.join(df_actors, df_most_appreciated[\"top_actor\"]==df_actors[\"actor\"])\\\n",
        "                                         .select(df_most_appreciated[\"title\"], df_actors[\"actor\"],\n",
        "                                                 df_most_appreciated[\"rating\"], df_actors[\"movies_number\"])\n",
        "\n",
        "df_film_stars = df_most_appreciated.orderBy(desc(\"movies_number\")).limit(10)\n",
        "df_film_stars.show(truncate=False)"
      ],
      "metadata": {
        "trusted": true,
        "id": "759DqgP_Dn8Q",
        "colab": {
          "base_uri": "https://localhost:8080/"
        },
        "outputId": "645860c7-b995-435b-dc69-4a40aea26fed"
      },
      "execution_count": 36,
      "outputs": [
        {
          "output_type": "stream",
          "name": "stdout",
          "text": [
            "+------------------------+--------------+------+-------------+\n",
            "|title                   |actor         |rating|movies_number|\n",
            "+------------------------+--------------+------+-------------+\n",
            "|The Godfather Part II   |Robert De Niro|9.0   |62           |\n",
            "|The Shawshank Redemption|Morgan Freeman|9.3   |48           |\n",
            "|Schindler's List        |Liam Neeson   |9.0   |42           |\n",
            "|The Godfather           |Al Pacino     |9.2   |35           |\n",
            "|The Godfather Part II   |Al Pacino     |9.0   |35           |\n",
            "|Schindler's List        |Ralph Fiennes |9.0   |30           |\n",
            "|Schindler's List        |Ben Kingsley  |9.0   |30           |\n",
            "|The Godfather Part II   |Robert Duvall |9.0   |29           |\n",
            "|The Godfather           |Diane Keaton  |9.2   |26           |\n",
            "|The Godfather Part II   |Diane Keaton  |9.0   |26           |\n",
            "+------------------------+--------------+------+-------------+\n",
            "\n"
          ]
        }
      ]
    },
    {
      "cell_type": "markdown",
      "source": [
        "## Attori e registi con più collaborazioni"
      ],
      "metadata": {
        "id": "MmlVRlRaDn8R"
      }
    },
    {
      "cell_type": "code",
      "source": [
        "df_imdb_directors = df_imdb_movies.withColumn(\"director\", col(\"director\")[0])\n",
        "df_directors_actors = df_imdb_directors.withColumn(\"actor\", explode(\"stars\"))\n",
        "df_couple = df_directors_actors.groupBy(\"director\",\"actor\").agg(count(\"*\").alias(\"movies_number\"))\n",
        "df_couple = df_couple.filter(col(\"actor\")!=col(\"director\"))\n",
        "df_couple = df_couple.orderBy(desc(\"movies_number\")).limit(10)\n",
        "df_couple.show()"
      ],
      "metadata": {
        "trusted": true,
        "id": "5YR9n3fsDn8R",
        "colab": {
          "base_uri": "https://localhost:8080/"
        },
        "outputId": "468df598-d908-426f-a401-0832ff7cf859"
      },
      "execution_count": 37,
      "outputs": [
        {
          "output_type": "stream",
          "name": "stdout",
          "text": [
            "+---------------+------------------+-------------+\n",
            "|       director|             actor|movies_number|\n",
            "+---------------+------------------+-------------+\n",
            "| Bobby Farrelly|    Peter Farrelly|           11|\n",
            "| Akira Kurosawa|    Toshirô Mifune|           11|\n",
            "|    Woody Allen|        Mia Farrow|           11|\n",
            "|      John Ford|        John Wayne|           10|\n",
            "|Martin Scorsese|    Robert De Niro|            9|\n",
            "|      Joel Coen|        Ethan Coen|            9|\n",
            "|     Ethan Coen|         Joel Coen|            8|\n",
            "| Ingmar Bergman|     Max von Sydow|            8|\n",
            "| Ingmar Bergman|Gunnar Björnstrand|            7|\n",
            "|  Anthony Russo|         Joe Russo|            7|\n",
            "+---------------+------------------+-------------+\n",
            "\n"
          ]
        }
      ]
    },
    {
      "cell_type": "markdown",
      "source": [
        "## Parole più ricorrenti nei Commenti della top 10"
      ],
      "metadata": {
        "id": "-HgoQWemDn8R"
      }
    },
    {
      "cell_type": "code",
      "source": [
        "df_tweet = df_genre_movies.groupBy('name', 'year', 'rating', 'review_url').agg(count('*'))\\\n",
        "                            .select('name', 'year', 'rating', 'review_url')\n",
        "df_tweet_top_10 = df_tweet.orderBy(desc('rating')).limit(10)\n",
        "df_tweet_top_10.show()"
      ],
      "metadata": {
        "execution": {
          "iopub.status.busy": "2024-04-30T17:23:36.056486Z",
          "iopub.execute_input": "2024-04-30T17:23:36.056882Z",
          "iopub.status.idle": "2024-04-30T17:23:36.921487Z",
          "shell.execute_reply.started": "2024-04-30T17:23:36.056854Z",
          "shell.execute_reply": "2024-04-30T17:23:36.920312Z"
        },
        "trusted": true,
        "id": "SjfU2Il9Dn8R",
        "colab": {
          "base_uri": "https://localhost:8080/"
        },
        "outputId": "82b43e25-0b98-41af-d248-a5778e29adf5"
      },
      "execution_count": 38,
      "outputs": [
        {
          "output_type": "stream",
          "name": "stdout",
          "text": [
            "+--------------------+----+------+--------------------+\n",
            "|                name|year|rating|          review_url|\n",
            "+--------------------+----+------+--------------------+\n",
            "|The Shawshank Red...|1994|   9.3|https://www.imdb....|\n",
            "|       The Godfather|1972|   9.2|https://www.imdb....|\n",
            "|     The Dark Knight|2008|   9.0|https://www.imdb....|\n",
            "|The Godfather: Pa...|1974|   9.0|https://www.imdb....|\n",
            "|    Schindler's List|1993|   8.9|https://www.imdb....|\n",
            "|The Lord of the R...|2003|   8.9|https://www.imdb....|\n",
            "|        12 Angry Men|1957|   8.9|https://www.imdb....|\n",
            "|        Pulp Fiction|1994|   8.9|https://www.imdb....|\n",
            "|     The Mountain II|2016|   8.9|https://www.imdb....|\n",
            "|The Lord of the R...|2001|   8.8|https://www.imdb....|\n",
            "+--------------------+----+------+--------------------+\n",
            "\n"
          ]
        }
      ]
    },
    {
      "cell_type": "code",
      "source": [
        "# Funzione per recuperare la recensione da un URL\n",
        "def get_review_from_url(url):\n",
        "    reviews = []\n",
        "    try:\n",
        "        response = requests.get(url)\n",
        "        if response.status_code == 200:\n",
        "            soup = BeautifulSoup(response.content, 'html.parser')\n",
        "            comments = soup.find_all('div', class_='text show-more__control')\n",
        "            for comment in comments:\n",
        "                reviews.append(comment.text.strip())\n",
        "            text = ' '.join(reviews)\n",
        "            text = text.replace(\",\", \"\") \\\n",
        "                        .replace(\";\", \"\") \\\n",
        "                        .replace(\":\", \"\") \\\n",
        "                        .replace(\"(\", \"\") \\\n",
        "                        .replace(\")\", \"\") \\\n",
        "                        .replace(\"!\", \"\") \\\n",
        "                        .replace(\"?\", \"\") \\\n",
        "                        .replace(\".\", \"\")\n",
        "            text = text.lower()\n",
        "            text = text.split()\n",
        "            return text\n",
        "        else:\n",
        "            return \"else\"\n",
        "    except:\n",
        "        return \"eccezione\""
      ],
      "metadata": {
        "execution": {
          "iopub.status.busy": "2024-04-30T17:23:54.147988Z",
          "iopub.execute_input": "2024-04-30T17:23:54.1484Z",
          "iopub.status.idle": "2024-04-30T17:23:54.159101Z",
          "shell.execute_reply.started": "2024-04-30T17:23:54.14837Z",
          "shell.execute_reply": "2024-04-30T17:23:54.157765Z"
        },
        "trusted": true,
        "id": "o7KYn5j5Dn8R"
      },
      "execution_count": 39,
      "outputs": []
    },
    {
      "cell_type": "code",
      "source": [
        "# Definisce le stop words\n",
        "englishStopWords = [\"and\", \"to\", \"the\", \"into\", \"on\", \"of\", \"by\", \"or\", \"in\", \"a\", \"with\", \"that\", \"she\", \"it\", \"i\",\n",
        "                    \"you\", \"he\", \"we\", \"they\", \"her\", \"his\", \"its\", \"this\", \"that\", \"at\", \"as\", \"for\", \"not\", \"so\",\n",
        "                    \"do\", \"is\", \"was\", \"are\", \"have\", \"has\", \"an\", \"my\", \"-\", \"but\", \"be\", \"film\", \"movie\", \"one\",\n",
        "                   \"from\", \"it's\", \"me\", \"where\"]"
      ],
      "metadata": {
        "execution": {
          "iopub.status.busy": "2024-04-30T17:23:55.391854Z",
          "iopub.execute_input": "2024-04-30T17:23:55.392899Z",
          "iopub.status.idle": "2024-04-30T17:23:55.400205Z",
          "shell.execute_reply.started": "2024-04-30T17:23:55.392858Z",
          "shell.execute_reply": "2024-04-30T17:23:55.398789Z"
        },
        "trusted": true,
        "id": "pKE1c3b-Dn8R"
      },
      "execution_count": 40,
      "outputs": []
    },
    {
      "cell_type": "code",
      "source": [
        "top_tweets = df_tweet_top_10.select('name', 'year', 'rating', 'review_url').collect()\n",
        "\n",
        "df_top_review = None\n",
        "\n",
        "for tweet in top_tweets:\n",
        "    url = tweet['review_url']\n",
        "    text = get_review_from_url(url)\n",
        "    text = [word for word in text if word not in englishStopWords]\n",
        "    top_word_dic = {}\n",
        "    top_word_list = []\n",
        "\n",
        "    for word in text:\n",
        "        if word in top_word_list:\n",
        "            top_word_dic[word] += 1\n",
        "        else:\n",
        "            top_word_dic[word] = 1\n",
        "            top_word_list.append(word)\n",
        "\n",
        "    # Ordinare il dizionario filtrato per valori in ordine decrescente\n",
        "    top_word_dic_ordinato = dict(sorted(top_word_dic.items(), key=lambda x: x[1], reverse=True))\n",
        "    top_five_words = dict(list(top_word_dic_ordinato.items())[:5])\n",
        "\n",
        "    # Crea un DataFrame Spark con una colonna di tipo MapType\n",
        "    df_temp = spark.createDataFrame([(tweet['name'], tweet['year'],\n",
        "                                 tweet['rating'], top_five_words,)],\n",
        "                               ['name', 'year', 'rating', \"top_words\"])\n",
        "\n",
        "    if df_top_review is None:\n",
        "        df_top_review = df_temp\n",
        "    else:\n",
        "        df_top_review = df_top_review.union(df_temp)\n",
        "\n",
        "# Mostra il DataFrame\n",
        "df_top_review.show(truncate=False)"
      ],
      "metadata": {
        "execution": {
          "iopub.status.busy": "2024-04-30T17:23:56.90348Z",
          "iopub.execute_input": "2024-04-30T17:23:56.903939Z",
          "iopub.status.idle": "2024-04-30T17:23:57.709884Z",
          "shell.execute_reply.started": "2024-04-30T17:23:56.903883Z",
          "shell.execute_reply": "2024-04-30T17:23:57.708682Z"
        },
        "trusted": true,
        "id": "geNxI5liDn8R",
        "colab": {
          "base_uri": "https://localhost:8080/"
        },
        "outputId": "34ff101e-05f8-4fb1-c35f-087a24b9bb2e"
      },
      "execution_count": 41,
      "outputs": [
        {
          "output_type": "stream",
          "name": "stdout",
          "text": [
            "+-------------------------------------------------+----+------+---------------------------------------------------------------------+\n",
            "|name                                             |year|rating|top_words                                                            |\n",
            "+-------------------------------------------------+----+------+---------------------------------------------------------------------+\n",
            "|The Shawshank Redemption                         |1994|9.3   |{all -> 43, about -> 30, shawshank -> 54, prison -> 31, andy -> 33}  |\n",
            "|The Godfather                                    |1972|9.2   |{all -> 37, family -> 33, just -> 29, godfather -> 40, much -> 30}   |\n",
            "|The Dark Knight                                  |2008|9.0   |{all -> 30, dark -> 37, best -> 35, joker -> 38, batman -> 45}       |\n",
            "|The Godfather: Part II                           |1974|9.0   |{michael -> 49, vito -> 42, godfather -> 46, first -> 48, part -> 46}|\n",
            "|Schindler's List                                 |1993|8.9   |{all -> 27, spielberg -> 29, more -> 28, schindler -> 29, jews -> 33}|\n",
            "|The Lord of the Rings: The Return of the King    |2003|8.9   |{all -> 45, some -> 30, jackson -> 36, two -> 34, more -> 30}        |\n",
            "|12 Angry Men                                     |1957|8.9   |{all -> 30, fonda -> 32, case -> 30, men -> 33, who -> 36}           |\n",
            "|Pulp Fiction                                     |1994|8.9   |{most -> 26, all -> 31, about -> 29, what -> 23, just -> 27}         |\n",
            "|The Mountain II                                  |2016|8.9   |{if -> 18, good -> 20, turkish -> 45, first -> 20, there -> 18}      |\n",
            "|The Lord of the Rings: The Fellowship of the Ring|2001|8.8   |{all -> 61, like -> 34, just -> 38, first -> 36, story -> 38}        |\n",
            "+-------------------------------------------------+----+------+---------------------------------------------------------------------+\n",
            "\n"
          ]
        }
      ]
    },
    {
      "cell_type": "markdown",
      "source": [
        "## Parole più ricorrenti nei Commenti della flop 10"
      ],
      "metadata": {
        "id": "NtlWQUDvDn8R"
      }
    },
    {
      "cell_type": "code",
      "source": [
        "df_tweet_flop_10 = df_tweet.orderBy(('rating')).limit(10)\n",
        "df_tweet_flop_10.show()"
      ],
      "metadata": {
        "execution": {
          "iopub.status.busy": "2024-04-30T17:24:14.473263Z",
          "iopub.execute_input": "2024-04-30T17:24:14.47442Z",
          "iopub.status.idle": "2024-04-30T17:24:15.19272Z",
          "shell.execute_reply.started": "2024-04-30T17:24:14.474355Z",
          "shell.execute_reply": "2024-04-30T17:24:15.191369Z"
        },
        "trusted": true,
        "id": "maiyRC5aDn8R",
        "colab": {
          "base_uri": "https://localhost:8080/"
        },
        "outputId": "54afe981-ec7c-4392-ce06-6e556000542b"
      },
      "execution_count": 42,
      "outputs": [
        {
          "output_type": "stream",
          "name": "stdout",
          "text": [
            "+--------------------+----+------+--------------------+\n",
            "|                name|year|rating|          review_url|\n",
            "+--------------------+----+------+--------------------+\n",
            "|         Spice World|1997|   3.5|https://www.imdb....|\n",
            "|       The Love Guru|2008|   3.8|https://www.imdb....|\n",
            "|Fifty Shades of Grey|2015|   4.1|https://www.imdb....|\n",
            "|In the Land of Bl...|2011|   4.5|https://www.imdb....|\n",
            "|              Driven|2001|   4.6|https://www.imdb....|\n",
            "|The Twilight Saga...|2009|   4.7|https://www.imdb....|\n",
            "|The Twilight Saga...|2011|   4.9|https://www.imdb....|\n",
            "|The Twilight Saga...|2010|   5.0|https://www.imdb....|\n",
            "|       The Happening|2008|   5.0|https://www.imdb....|\n",
            "|      Happy New Year|2014|   5.0|https://www.imdb....|\n",
            "+--------------------+----+------+--------------------+\n",
            "\n"
          ]
        }
      ]
    },
    {
      "cell_type": "code",
      "source": [
        "flop_tweets = df_tweet_flop_10.select('name', 'year', 'rating', 'review_url').collect()\n",
        "\n",
        "df_flop_review = None\n",
        "\n",
        "for tweet in flop_tweets:\n",
        "    url = tweet['review_url']\n",
        "    text = get_review_from_url(url)\n",
        "    text = [word for word in text if word not in englishStopWords]\n",
        "    flop_word_dic = {}\n",
        "    flop_word_list = []\n",
        "\n",
        "    for word in text:\n",
        "        if word in flop_word_list:\n",
        "            flop_word_dic[word] += 1\n",
        "        else:\n",
        "            flop_word_dic[word] = 1\n",
        "            flop_word_list.append(word)\n",
        "\n",
        "    # Ordinare il dizionario filtrato per valori in ordine decrescente\n",
        "    flop_word_dic_ordinato = dict(sorted(flop_word_dic.items(), key=lambda x: x[1], reverse=True))\n",
        "    flop_five_words = dict(list(flop_word_dic_ordinato.items())[:5])\n",
        "\n",
        "    # Crea un DataFrame Spark con una colonna di tipo MapType\n",
        "    df_temp = spark.createDataFrame([(tweet['name'], tweet['year'],\n",
        "                                 tweet['rating'], flop_five_words,)],\n",
        "                               ['name', 'year', 'rating', \"flop_words\"])\n",
        "\n",
        "    if df_flop_review is None:\n",
        "        df_flop_review = df_temp\n",
        "    else:\n",
        "        df_flop_review = df_flop_review.union(df_temp)\n",
        "\n",
        "# Mostra il DataFrame\n",
        "df_flop_review.show(truncate=False)"
      ],
      "metadata": {
        "execution": {
          "iopub.status.busy": "2024-04-30T17:24:37.513273Z",
          "iopub.execute_input": "2024-04-30T17:24:37.513776Z",
          "iopub.status.idle": "2024-04-30T17:24:47.759119Z",
          "shell.execute_reply.started": "2024-04-30T17:24:37.513744Z",
          "shell.execute_reply": "2024-04-30T17:24:47.757935Z"
        },
        "trusted": true,
        "id": "_4AXOuR2Dn8S",
        "colab": {
          "base_uri": "https://localhost:8080/"
        },
        "outputId": "160f6261-190e-45f6-fce8-4b4158239c85"
      },
      "execution_count": 43,
      "outputs": [
        {
          "output_type": "stream",
          "name": "stdout",
          "text": [
            "+-----------------------------------------+----+------+----------------------------------------------------------------+\n",
            "|name                                     |year|rating|flop_words                                                      |\n",
            "+-----------------------------------------+----+------+----------------------------------------------------------------+\n",
            "|Spice World                              |1997|3.5   |{their -> 24, girls -> 39, just -> 22, were -> 21, spice -> 35} |\n",
            "|The Love Guru                            |2008|3.8   |{guru -> 55, myers -> 59, mike -> 41, just -> 39, funny -> 39}  |\n",
            "|Fifty Shades of Grey                     |2015|4.1   |{about -> 47, no -> 40, what -> 45, book -> 39, who -> 36}      |\n",
            "|In the Land of Blood and Honey           |2011|4.5   |{about -> 51, war -> 83, bosnian -> 35, what -> 38, story -> 40}|\n",
            "|Driven                                   |2001|4.6   |{all -> 25, racing -> 35, race -> 22, just -> 24, there -> 23}  |\n",
            "|The Twilight Saga: New Moon              |2009|4.7   |{about -> 38, edward -> 57, bella -> 65, like -> 53, just -> 39}|\n",
            "|The Twilight Saga: Breaking Dawn - Part 1|2011|4.9   |{all -> 41, some -> 36, bella -> 58, just -> 46, much -> 34}    |\n",
            "|The Twilight Saga: Eclipse               |2010|5.0   |{all -> 43, bella -> 44, like -> 48, were -> 44, really -> 39}  |\n",
            "|The Happening                            |2008|5.0   |{no -> 33, what -> 39, bad -> 36, just -> 34, people -> 39}     |\n",
            "|Happy New Year                           |2014|5.0   |{movies -> 25, all -> 25, khan -> 44, new -> 25, good -> 27}    |\n",
            "+-----------------------------------------+----+------+----------------------------------------------------------------+\n",
            "\n"
          ]
        }
      ]
    }
  ]
}